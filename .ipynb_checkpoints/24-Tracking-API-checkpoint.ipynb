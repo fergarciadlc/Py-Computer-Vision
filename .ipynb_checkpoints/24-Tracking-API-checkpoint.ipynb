{
 "cells": [
  {
   "cell_type": "markdown",
   "metadata": {},
   "source": [
    "# Tracking APIs\n",
    "\n",
    " * [MIL Tracker](https://faculty.ucmerced.edu/mhyang/papers/cvpr09a.pdf) (Multiple Instance Learning)\n",
    " * [KCF Tracker](https://arxiv.org/abs/1404.7584) (Kernelized Correlation Filters) \n",
    " * [TLD Tracker](https://ieeexplore.ieee.org/document/6104061) (Tracking-Learning-Detection)\n",
    " * [Median Flow Tracker](http://citeseerx.ist.psu.edu/viewdoc/download?doi=10.1.1.231.4285&rep=rep1&type=pdf)"
   ]
  },
  {
   "cell_type": "code",
   "execution_count": null,
   "metadata": {},
   "outputs": [],
   "source": []
  }
 ],
 "metadata": {
  "kernelspec": {
   "display_name": "Python 3",
   "language": "python",
   "name": "python3"
  },
  "language_info": {
   "codemirror_mode": {
    "name": "ipython",
    "version": 3
   },
   "file_extension": ".py",
   "mimetype": "text/x-python",
   "name": "python",
   "nbconvert_exporter": "python",
   "pygments_lexer": "ipython3",
   "version": "3.6.6"
  }
 },
 "nbformat": 4,
 "nbformat_minor": 2
}
